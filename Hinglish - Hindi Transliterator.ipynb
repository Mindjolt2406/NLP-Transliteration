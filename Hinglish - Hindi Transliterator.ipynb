{
 "cells": [
  {
   "cell_type": "code",
   "execution_count": 2,
   "metadata": {},
   "outputs": [
    {
     "data": {
      "text/plain": [
       "0"
      ]
     },
     "execution_count": 2,
     "metadata": {},
     "output_type": "execute_result"
    }
   ],
   "source": [
    "#If there's a space, treat it like an a, if there is no vowel\n",
    "\n",
    "# Basic characters\n",
    "\n",
    "#Matras\n",
    "# an = chr(2362)\n",
    "#The chandra bindu\n",
    "nn = chr(2305) \n",
    "NK = chr(2306)\n",
    "NHa = chr(2307) \n",
    "aa = chr(2366)\n",
    "# i goes on the left (unlike everything else) \n",
    "i = chr(2367) \n",
    "ee = chr(2368)\n",
    "ou = chr(2369)\n",
    "oou = chr(2370)\n",
    "re = chr(2371)\n",
    "oh = chr(2379)\n",
    "ao = chr(2380)\n",
    "ae = chr(2375)\n",
    "ey = chr(2376)\n",
    "NN = chr(2364)\n",
    "tr = chr(2371)\n",
    "\n",
    "#Vowels \n",
    "Ah = chr(2309)\n",
    "Aa = chr(2310)\n",
    "I = chr(2311) \n",
    "Ee = chr(2312)\n",
    "Ou = chr(2313)\n",
    "Oou = chr(2314)\n",
    "Tr = chr(2315)\n",
    "Ay = chr(2319)\n",
    "Ey = chr(2320)\n",
    "Oh = chr(2323)\n",
    "Ao = chr(2324)\n",
    "Ank = Ah+NK\n",
    "Aha = Ah+NHa\n",
    "#Getter a better thing for this\n",
    "Em = Ay+nn \n",
    "\n",
    "half = chr(2381)\n",
    "\n",
    "# #Consonants\n",
    "ka = chr(2325)\n",
    "Kha = chr(2326)\n",
    "ga = chr(2327)\n",
    "Gha = chr(2328)\n",
    "rda = chr(2329)\n",
    "\n",
    "cha = chr(2330)\n",
    "Chha = chr(2331)\n",
    "ja = chr(2332)\n",
    "Jha = chr(2333)\n",
    "Nya = chr(2334)\n",
    "\n",
    "tTa = chr(2335)  #Careful\n",
    "Ttha = chr(2336) #Careful\n",
    "dDa = chr(2337)  #Careful\n",
    "Ddha = chr(2338) #Careful\n",
    "Rra = chr(2339)\n",
    "\n",
    "tta = chr(2340)\n",
    "Tha = chr(2341)\n",
    "dda = chr(2342)\n",
    "Dha = chr(2343)\n",
    "na = chr(2344)\n",
    "\n",
    "Nna = chr(2345)\n",
    "\n",
    "pa = chr(2346)\n",
    "Pha = chr(2347)\n",
    "fa = Pha+NN\n",
    "ba = chr(2348)\n",
    "Bha = chr(2349)\n",
    "ma = chr(2350)\n",
    "\n",
    "ya = chr(2351)\n",
    "ra = chr(2352)\n",
    "Rna = chr(2353)\n",
    "la = chr(2354)\n",
    "Lna = chr(2355)\n",
    "va = chr(2357)\n",
    "\n",
    "sha = chr(2358)\n",
    "sHha = chr(2359)\n",
    "Sa = chr(2360)\n",
    "ha = chr(2361)\n",
    "KSha = ka+half+sHha\n",
    "TRa = tta+half+ra\n",
    "Gya = ja+half+Nya\n",
    "\n",
    "# Parsing the text\n",
    "# Store the halves separately \n",
    "# If something is a half, check the matra assosciated\n",
    "# If the letter is 'a', then check if the next letter is a vowel\n",
    "\n",
    "0\n",
    "\n",
    "\n",
    "\n",
    "\n",
    "\n",
    "\n",
    "\n"
   ]
  },
  {
   "cell_type": "code",
   "execution_count": 3,
   "metadata": {
    "collapsed": true
   },
   "outputs": [],
   "source": [
    "halves = {\"k\":chr(2325),\"Kh\":chr(2326),\"g\":chr(2327),\"Gh\":chr(2328),\"rd\":chr(2329),\"ch\":chr(2330),\"Chh\":chr(2331),\"j\":chr(2332),\"Jh\":chr(2333),\"Ny\":chr(2334),\"tT\":chr(2335),\"Tth\":chr(2336),\"dD\":chr(2337),\"Ddh\":chr(2338),\"Rr\":chr(2339),\"tt\":chr(2340),\"Th\":chr(2341),\"dd\":chr(2342),\"Dh\":chr(2343),\"n\":chr(2344),\"Nn\":chr(2345),\"p\":chr(2346),\"Ph\":chr(2347),\"f\":Pha+NN,\"b\":chr(2348),\"Bh\":chr(2349),\"m\":chr(2350),\"y\":chr(2351),\"r\":chr(2352),\"Rn\":chr(2353),\"l\":chr(2354),\"Ln\":chr(2355),\"v\":chr(2357),\"sh\":chr(2358),\"sHh\":chr(2359),\"S\":chr(2360),\"h\":chr(2361),\"KSh\":ka+half+sHha,\"TR\":tta+half+ra,\"Gy\":ja+half+Nya}\n",
    "cap_vowel = {\"Ah\":chr(2309),\"Aa\":chr(2310),\"I\":chr(2311),\"Ee\":chr(2312),\"Ou\":chr(2313),\"Oou\":chr(2314),\"Tr\":chr(2315),\"Ay\":chr(2319),\"Ey\":chr(2320),\"Oh\":chr(2323),\"Ao\":chr(2324),\"Ank\":Ah+NK,\"Aha\":Ah+NHa,\"Em\":Ay+nn}\n",
    "matra = {\"nn\":chr(2305),\"NK\":chr(2306),\"NHa\":chr(2307),\"aa\":chr(2366),\"i\":chr(2367),\"ee\":chr(2368),\"ou\":chr(2369),\"oou\":chr(2370),\"re\":chr(2371),\"oh\":chr(2379),\"ao\":chr(2380),\"ae\":chr(2375),\"ey\":chr(2376),\"NN\":chr(2364),\"tr\":chr(2371),\"stop\":chr(2404)}\n",
    "vow = ['a','e','i','o','u']"
   ]
  },
  {
   "cell_type": "code",
   "execution_count": 4,
   "metadata": {
    "collapsed": true
   },
   "outputs": [],
   "source": [
    "def f(s):\n",
    "    sentence = s.split(' ')\n",
    "    ans = \"\"\n",
    "    for word in sentence:\n",
    "        word += \" \" #Just in case\n",
    "        \n",
    "        i = 0\n",
    "        while(i<len(word)):\n",
    "            \n",
    "            phrase = \"\"\n",
    "            hindi_phrase = \"\"\n",
    "            add_half = False\n",
    "            \n",
    "            while(i<len(word)):\n",
    "                if(word[i] == '.'):\n",
    "                    ans += matra[\"stop\"]\n",
    "                    i+=1\n",
    "                    break\n",
    "                    \n",
    "                if(i != len(word)-1 and ord(word[i]) not in range(ord('a'),ord('z')+1) and ord(word[i]) not in range(ord('A'),ord('Z')+1)):\n",
    "                    ans += word[i]\n",
    "                    i+=1\n",
    "                    break\n",
    "                    \n",
    "                if(word[i] == 'h' and i == len(word)-2):\n",
    "                    ans += halves[\"h\"] + half\n",
    "                    i+=1\n",
    "                    break\n",
    "                    \n",
    "                phrase += word[i]\n",
    "#                 print(i,phrase,hindi_phrase)\n",
    "                if(phrase == 'a'):\n",
    "                    if(word[i+1] in vow):\n",
    "                        phrase = 'a'+word[i+1]\n",
    "                        hindi_phrase += matra[phrase]\n",
    "                        i+=1\n",
    "                    i+=1\n",
    "                    break\n",
    "                if(phrase in cap_vowel):\n",
    "                    hindi_phrase += cap_vowel[phrase]\n",
    "                    i+=1\n",
    "                    break\n",
    "                elif(phrase in matra):\n",
    "                    add_half = False\n",
    "                    hindi_phrase += matra[phrase]\n",
    "                    \n",
    "                    i+=1\n",
    "                    break\n",
    "                    \n",
    "                elif(phrase in halves):\n",
    "                    if(add_half):\n",
    "                        hindi_phrase += half\n",
    "                    \n",
    "                    hindi_phrase += halves[phrase]\n",
    "                    phrase = \"\"\n",
    "                    \n",
    "                    add_half = True\n",
    "                i+=1\n",
    "            \n",
    "            ans += hindi_phrase\n",
    "                        \n",
    "        ans += \" \"\n",
    "    return ans"
   ]
  },
  {
   "cell_type": "code",
   "execution_count": 5,
   "metadata": {},
   "outputs": [
    {
     "name": "stdout",
     "output_type": "stream",
     "text": [
      "शक्ति विधालय में गणतंत्र दिवस का समारोह पर निबंह् विधार्थी 22 \n",
      "जनवरी की तिथि का स्वतंत्रता संग्राम के  \n"
     ]
    }
   ],
   "source": [
    "s = \"shaktti viDhaalaya maeNK gaRrattNKTRa ddivaSa kaa Samaarohha para nibaNKDh viDhaarThee 22\"\n",
    "t = \"janavaree kee ttiThi kaa SvattNKTRattaa SaNKgraam kae \"\n",
    "print(f(s))\n",
    "print(f(t))"
   ]
  },
  {
   "cell_type": "code",
   "execution_count": 6,
   "metadata": {},
   "outputs": [
    {
     "name": "stdout",
     "output_type": "stream",
     "text": [
      "26 जनवरी की तिथि का स्वतंत्रता संग्राम के\n",
      "इतिहास में अपना विशेष महत्त्व है।\n",
      "सन 1930 में रवी नदी के तट पर कांग्रेस के लाहूर \n",
      "अधिवेशन में स्वर्गीय पंडित जवाहर्लाल नेहरू ने \n",
      "पूर्ण स्वतंत्रता की घोषणा की 26 जनवरी 1930 \n"
     ]
    }
   ],
   "source": [
    "s = '''26 janavaree kee ttiThi kaa SvattaNKTRattaa SNKgraam kae\n",
    "IttihaaS maeNK Ahpanaa vishaesHha mahattttva hey.\n",
    "Sana 1930 maeNK ravee naddee kae ttatTa par kaaNKgraeS kae laahoour \n",
    "AhDhivaeshan maeNK Svargeey paNKdDitt javaaharlaal naeharoou nae \n",
    "poourRra SvattaNKTRattaa kee GhohsHhaRraa kee 26 janavaree 1930'''\n",
    "print(f(s))"
   ]
  },
  {
   "cell_type": "code",
   "execution_count": null,
   "metadata": {},
   "outputs": [],
   "source": []
  },
  {
   "cell_type": "code",
   "execution_count": null,
   "metadata": {},
   "outputs": [],
   "source": []
  },
  {
   "cell_type": "code",
   "execution_count": null,
   "metadata": {},
   "outputs": [],
   "source": []
  },
  {
   "cell_type": "code",
   "execution_count": null,
   "metadata": {},
   "outputs": [],
   "source": []
  },
  {
   "cell_type": "code",
   "execution_count": null,
   "metadata": {},
   "outputs": [],
   "source": []
  },
  {
   "cell_type": "code",
   "execution_count": null,
   "metadata": {},
   "outputs": [],
   "source": []
  },
  {
   "cell_type": "code",
   "execution_count": null,
   "metadata": {},
   "outputs": [],
   "source": []
  },
  {
   "cell_type": "code",
   "execution_count": null,
   "metadata": {
    "collapsed": true
   },
   "outputs": [],
   "source": []
  }
 ],
 "metadata": {
  "kernelspec": {
   "display_name": "Python 3",
   "language": "python",
   "name": "python3"
  },
  "language_info": {
   "codemirror_mode": {
    "name": "ipython",
    "version": 3
   },
   "file_extension": ".py",
   "mimetype": "text/x-python",
   "name": "python",
   "nbconvert_exporter": "python",
   "pygments_lexer": "ipython3",
   "version": "3.7.3"
  }
 },
 "nbformat": 4,
 "nbformat_minor": 2
}
